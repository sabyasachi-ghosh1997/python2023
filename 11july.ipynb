{
 "cells": [
  {
   "cell_type": "code",
   "execution_count": 124,
   "id": "f56b101d",
   "metadata": {},
   "outputs": [
    {
     "name": "stdout",
     "output_type": "stream",
     "text": [
      "input 1st number : 44\n",
      "input 2nd number : 55\n",
      "Only 1nd input divided by 4\n"
     ]
    }
   ],
   "source": [
    "a=int(input(\"input 1st number : \"))\n",
    "b=int(input(\"input 2nd number : \"))\n",
    "if (a%4==0):\n",
    "    if(b%6==0):\n",
    "        print(\"Both input are divided by 4 and 6\")\n",
    "    else:\n",
    "        print(\"Only 1nd input divided by 4\")\n",
    "else:\n",
    "    print(\"Only 2nd input divided by 6\")"
   ]
  },
  {
   "cell_type": "code",
   "execution_count": 91,
   "id": "253e1735",
   "metadata": {},
   "outputs": [
    {
     "name": "stdout",
     "output_type": "stream",
     "text": [
      "input a number between ( 20 - 39 ) : 30\n",
      "A is greater then 20.\n"
     ]
    }
   ],
   "source": [
    "# Q2\n",
    "\n",
    "a=int(input(\"input a number between ( 20 - 39 ) : \"))\n",
    "if  a >30 and a <40: \n",
    "    if a > 20:\n",
    "        print(\"A is More than 30, but less than 40\")\n",
    "elif a == 23:\n",
    "    print(\"A is = 23.\")\n",
    "else:\n",
    "    print(\"A is greater then 20.\")"
   ]
  },
  {
   "cell_type": "code",
   "execution_count": 53,
   "id": "7118ceed",
   "metadata": {},
   "outputs": [
    {
     "name": "stdout",
     "output_type": "stream",
     "text": [
      "2\n",
      "4\n",
      "6\n",
      "8\n",
      "10\n",
      "12\n",
      "14\n",
      "16\n",
      "18\n",
      "20\n",
      "22\n",
      "24\n",
      "26\n",
      "28\n",
      "30\n",
      "32\n",
      "34\n",
      "36\n",
      "38\n",
      "40\n",
      "42\n",
      "44\n",
      "46\n",
      "48\n",
      "50\n",
      "52\n",
      "54\n",
      "56\n",
      "58\n",
      "60\n",
      "62\n",
      "64\n",
      "66\n",
      "68\n",
      "70\n",
      "72\n",
      "74\n",
      "76\n",
      "78\n",
      "80\n",
      "82\n",
      "84\n",
      "86\n",
      "88\n",
      "90\n",
      "92\n",
      "94\n",
      "96\n",
      "98\n",
      "100\n"
     ]
    }
   ],
   "source": [
    "# Q5. FIND OUT ALL THE EVEN NUMBER (1 - 100)\n",
    "\n",
    "i=1\n",
    "while(i<=100):\n",
    "    x=i%2\n",
    "    if(x==0):\n",
    "        print(i)\n",
    "    i+=1"
   ]
  },
  {
   "cell_type": "code",
   "execution_count": 67,
   "id": "f84d52db",
   "metadata": {},
   "outputs": [
    {
     "name": "stdout",
     "output_type": "stream",
     "text": [
      "7 is divisible by 7 .\n",
      "14 is divisible by 7 .\n",
      "21 is divisible by 7 .\n",
      "28 is divisible by 7 .\n",
      "35 is divisible by 7 .\n",
      "42 is divisible by 7 .\n",
      "49 is divisible by 7 .\n",
      "56 is divisible by 7 .\n",
      "63 is divisible by 7 .\n",
      "70 is divisible by 7 .\n",
      "77 is divisible by 7 .\n",
      "84 is divisible by 7 .\n",
      "91 is divisible by 7 .\n",
      "98 is divisible by 7 .\n"
     ]
    }
   ],
   "source": [
    "# Q3. FIND OUT ALL THE NUMBER (1 - 100) WHICH IS DIVIDED BY 7\n",
    "\n",
    "for i in range(1, 100):\n",
    "    if i % 7 == 0: \n",
    "        print(i, \"is divisible by 7 .\")"
   ]
  },
  {
   "cell_type": "code",
   "execution_count": 68,
   "id": "ef8aeb65",
   "metadata": {},
   "outputs": [
    {
     "name": "stdout",
     "output_type": "stream",
     "text": [
      "63 is divisible by 7 and 9.\n"
     ]
    }
   ],
   "source": [
    "# Q4. FIND OUT ALL THE NUMBER (1 - 100) WHICH IS DIVIDED BY 7 and 9\n",
    " \n",
    "\n",
    "for num in range(1, 100):\n",
    "    if num % 7 == 0 and num % 9 == 0:\n",
    "        print(num, \"is divisible by 7 and 9.\")"
   ]
  },
  {
   "cell_type": "code",
   "execution_count": 76,
   "id": "27af682e",
   "metadata": {
    "scrolled": true
   },
   "outputs": [
    {
     "name": "stdout",
     "output_type": "stream",
     "text": [
      "enter a word - west bengal\n",
      "1 e  - Odd index position\n",
      "3 t  - Odd index position\n",
      "5 b  - Odd index position\n",
      "7 n  - Odd index position\n",
      "9 a  - Odd index position\n"
     ]
    }
   ],
   "source": [
    "# Q7.1\n",
    "\n",
    "a=(input(\"enter a word - \"))\n",
    "index=1\n",
    "while(index< len(a) ):\n",
    "    print(index,  a[index] ,\" - Odd index position\"  )\n",
    "    index+=2"
   ]
  },
  {
   "cell_type": "code",
   "execution_count": null,
   "id": "a6070a06",
   "metadata": {},
   "outputs": [],
   "source": []
  }
 ],
 "metadata": {
  "kernelspec": {
   "display_name": "Python 3 (ipykernel)",
   "language": "python",
   "name": "python3"
  },
  "language_info": {
   "codemirror_mode": {
    "name": "ipython",
    "version": 3
   },
   "file_extension": ".py",
   "mimetype": "text/x-python",
   "name": "python",
   "nbconvert_exporter": "python",
   "pygments_lexer": "ipython3",
   "version": "3.10.11"
  }
 },
 "nbformat": 4,
 "nbformat_minor": 5
}
