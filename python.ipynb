{
 "cells": [
  {
   "cell_type": "code",
   "execution_count": 1,
   "id": "5a4a9183",
   "metadata": {},
   "outputs": [
    {
     "name": "stdout",
     "output_type": "stream",
     "text": [
      "user input:sabyasachi\n"
     ]
    },
    {
     "data": {
      "text/plain": [
       "'i'"
      ]
     },
     "execution_count": 1,
     "metadata": {},
     "output_type": "execute_result"
    }
   ],
   "source": [
    "a=str( input(\"user input:\"))\n",
    "a[-1]"
   ]
  },
  {
   "cell_type": "code",
   "execution_count": 2,
   "id": "798ea691",
   "metadata": {},
   "outputs": [
    {
     "name": "stdout",
     "output_type": "stream",
     "text": [
      "user input:i am sabyasachi\n",
      "am\n"
     ]
    }
   ],
   "source": [
    "a=str( input(\"user input:\"))\n",
    "word=a.split()\n",
    "print(word[1])"
   ]
  },
  {
   "cell_type": "code",
   "execution_count": 7,
   "id": "c8d36e7d",
   "metadata": {},
   "outputs": [
    {
     "name": "stdout",
     "output_type": "stream",
     "text": [
      "Enter any number to check it is odd or even:544\n",
      "The number is even\n"
     ]
    }
   ],
   "source": [
    "num = int (input (\"Enter any number to check it is odd or even:\"))\n",
    "if (num % 2) == 0:\n",
    "    print (\"The number is even\")\n",
    "\n",
    "else:\n",
    "        print (\"This number is odd\")\n"
   ]
  },
  {
   "cell_type": "code",
   "execution_count": 8,
   "id": "454708eb",
   "metadata": {},
   "outputs": [
    {
     "name": "stdout",
     "output_type": "stream",
     "text": [
      "user input:sabyasachi ghosh\n",
      "16\n"
     ]
    }
   ],
   "source": [
    "a=str( input(\"user input:\"))\n",
    "print(len(a))"
   ]
  },
  {
   "cell_type": "code",
   "execution_count": 1,
   "id": "2b2b99df",
   "metadata": {},
   "outputs": [
    {
     "name": "stdout",
     "output_type": "stream",
     "text": [
      "Enter the sentence : sabyasachi\n",
      "4\n"
     ]
    }
   ],
   "source": [
    "a=str(input(\"Enter the sentence : \"))\n",
    "i=0\n",
    "l=['a','e','i','o','u','A','E','I','O','U']\n",
    "for char in a:\n",
    "    if char in l:\n",
    "        i=i+1\n",
    "print(i)        "
   ]
  },
  {
   "cell_type": "code",
   "execution_count": 14,
   "id": "dbec8133",
   "metadata": {},
   "outputs": [
    {
     "name": "stdout",
     "output_type": "stream",
     "text": [
      "enter anythings : 644464\n",
      "this is not string\n"
     ]
    }
   ],
   "source": [
    "a=(input(\"enter anythings : \"))\n",
    "if(type(a))==int:\n",
    "    print('this is string')\n",
    "    \n",
    "else:\n",
    "        print (\"this is not string\")    "
   ]
  },
  {
   "cell_type": "code",
   "execution_count": 18,
   "id": "a493bd8b",
   "metadata": {},
   "outputs": [
    {
     "name": "stdout",
     "output_type": "stream",
     "text": [
      "enter an integer : 4444\n",
      "This Number Satisfies the divisility rule of 4\n"
     ]
    }
   ],
   "source": [
    "#DIVISIBILITY rule\n",
    "\n",
    "num=int(input(\"enter an integer : \"))\n",
    "if num %4==0:\n",
    "    print(\"This Number Satisfies the divisility rule of 4\")\n",
    "    \n",
    "    \n",
    "else:\n",
    "    print(\"This Number dose not Satisfies the divisility rule of 4\")"
   ]
  },
  {
   "cell_type": "code",
   "execution_count": null,
   "id": "471167a6",
   "metadata": {},
   "outputs": [],
   "source": []
  }
 ],
 "metadata": {
  "kernelspec": {
   "display_name": "Python 3 (ipykernel)",
   "language": "python",
   "name": "python3"
  },
  "language_info": {
   "codemirror_mode": {
    "name": "ipython",
    "version": 3
   },
   "file_extension": ".py",
   "mimetype": "text/x-python",
   "name": "python",
   "nbconvert_exporter": "python",
   "pygments_lexer": "ipython3",
   "version": "3.10.11"
  }
 },
 "nbformat": 4,
 "nbformat_minor": 5
}
