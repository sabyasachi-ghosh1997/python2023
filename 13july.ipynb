{
 "cells": [
  {
   "cell_type": "code",
   "execution_count": 65,
   "id": "6c85e9a9",
   "metadata": {},
   "outputs": [
    {
     "name": "stdout",
     "output_type": "stream",
     "text": [
      "intiger list -  [1, 2, 3, 4, 5]\n",
      "string list -  ['s', 'a', 'b', 'y', 'a']\n"
     ]
    }
   ],
   "source": [
    "# (Q1)\n",
    "\n",
    "\n",
    "mylist=[1,\"s\",2,\"a\",3,\"b\",4,\"y\",5,\"a\"]\n",
    "\n",
    "intlist=[]\n",
    "strlist=[]\n",
    "\n",
    "for element in mylist:\n",
    "    \n",
    "    if type(element)==int:\n",
    "        intlist.append(element)\n",
    "    else:\n",
    "        strlist.append(element)\n",
    "        \n",
    "print(\"intiger list - \",intlist)\n",
    "print(\"string list - \",strlist)\n",
    "        "
   ]
  },
  {
   "cell_type": "code",
   "execution_count": 3,
   "id": "e38149db",
   "metadata": {},
   "outputs": [
    {
     "name": "stdout",
     "output_type": "stream",
     "text": [
      "Hello\n",
      "tirtho\n"
     ]
    }
   ],
   "source": [
    "#(Q.3)\n",
    "\n",
    "\n",
    "datalist = [\"Hello\", \"Hi\", \"Bye\", 123, \"Yes\",\"tirtho\",3434]\n",
    "\n",
    "for data in datalist:\n",
    "    if type(data) == str and len(data) > 3:\n",
    "        print(data)\n"
   ]
  },
  {
   "cell_type": "code",
   "execution_count": 64,
   "id": "bb958a25",
   "metadata": {},
   "outputs": [
    {
     "name": "stdout",
     "output_type": "stream",
     "text": [
      "Squered number is -  [9, 25, 49, 81, 100, 49]\n"
     ]
    }
   ],
   "source": [
    "# (Q.2)\n",
    "\n",
    "\n",
    "    \n",
    "numbers = [2.5, 3, 4.2, 5, 6.8, 7, 8.1, 9, 10,-7]\n",
    "\n",
    "squared_numbers = []\n",
    "\n",
    "for number in numbers:\n",
    "    if number % 1 == 0:\n",
    "        sn = number * number\n",
    "        squared_numbers.append(sn)\n",
    "\n",
    "print(\"Squered number is - \",squared_numbers)\n"
   ]
  },
  {
   "cell_type": "code",
   "execution_count": 109,
   "id": "329a376f",
   "metadata": {},
   "outputs": [
    {
     "name": "stdout",
     "output_type": "stream",
     "text": [
      "1  \n",
      "1  2  \n",
      "1  2  3  \n",
      "1  2  3  4  \n"
     ]
    }
   ],
   "source": [
    "# (p.1)\n",
    "\n",
    "for outerloop in range(1,5):\n",
    "    for innerloop in range(1,outerloop+1):\n",
    "        print(innerloop,end=\"  \")\n",
    "        \n",
    "    print(\"\")    "
   ]
  },
  {
   "cell_type": "code",
   "execution_count": 119,
   "id": "31841260",
   "metadata": {},
   "outputs": [
    {
     "name": "stdout",
     "output_type": "stream",
     "text": [
      "1 \n",
      "2 3 \n",
      "4 5 6 \n",
      "7 8 9 10 \n"
     ]
    }
   ],
   "source": [
    "# (P.2)\n",
    "\n",
    "rows = 4\n",
    "number = 1\n",
    "\n",
    "for i in range(rows):\n",
    "    for j in range(i + 1):\n",
    "        print(number, end=\" \")\n",
    "        number += 1\n",
    "    print()\n"
   ]
  },
  {
   "cell_type": "code",
   "execution_count": 125,
   "id": "4b0e549f",
   "metadata": {},
   "outputs": [
    {
     "name": "stdout",
     "output_type": "stream",
     "text": [
      "****\n",
      " ***\n",
      "  **\n",
      "   *\n"
     ]
    }
   ],
   "source": [
    "# (P.3) downward triangle star pattern\n",
    "\n",
    "\n",
    "size = 4\n",
    "for i in range(size):\n",
    "    for j in range(i):\n",
    "        print(\" \", end=\"\")\n",
    "        \n",
    "    for j in range(size, i, -1):\n",
    "        print(\"*\", end=\"\")\n",
    "    print()"
   ]
  },
  {
   "cell_type": "code",
   "execution_count": 2,
   "id": "270f3bd7",
   "metadata": {},
   "outputs": [
    {
     "name": "stdout",
     "output_type": "stream",
     "text": [
      "A \n",
      "A B \n",
      "A B C \n",
      "A B C D \n"
     ]
    }
   ],
   "source": [
    "# (P.4)\n",
    "\n",
    "\n",
    "rows = 4  # Number of rows in the pattern\n",
    "\n",
    "# Iterate over each row\n",
    "for i in range(rows):\n",
    "    alphabet = 'A'  # Start with 'A' for each row\n",
    "    \n",
    "    # Print alphabets from 'A' to ('A' + i)\n",
    "    for j in range(i + 1):\n",
    "        print(alphabet, end=' ')\n",
    "        alphabet = chr(ord(alphabet) + 1)  # Increment the alphabet\n",
    "    \n",
    "    print()  # Move to the next line\n"
   ]
  },
  {
   "cell_type": "code",
   "execution_count": 6,
   "id": "c177895d",
   "metadata": {},
   "outputs": [
    {
     "name": "stdout",
     "output_type": "stream",
     "text": [
      "ABCDE\n",
      " ABCD\n",
      "  ABC\n",
      "   AB\n",
      "    A\n"
     ]
    }
   ],
   "source": [
    "# (P.5)\n",
    "\n",
    "\n",
    "# hourglass alphabet pattern\n",
    "n = 6\n",
    "\n",
    "\n",
    "for i in range(n-1):\n",
    "    for j in range(i):\n",
    "        print(' ', end='')\n",
    "    for k in range(1*(n-i)-1):\n",
    "        print(chr(65 + k), end='')\n",
    "    print()\n"
   ]
  },
  {
   "cell_type": "code",
   "execution_count": null,
   "id": "ea294bc3",
   "metadata": {},
   "outputs": [],
   "source": []
  }
 ],
 "metadata": {
  "kernelspec": {
   "display_name": "Python 3 (ipykernel)",
   "language": "python",
   "name": "python3"
  },
  "language_info": {
   "codemirror_mode": {
    "name": "ipython",
    "version": 3
   },
   "file_extension": ".py",
   "mimetype": "text/x-python",
   "name": "python",
   "nbconvert_exporter": "python",
   "pygments_lexer": "ipython3",
   "version": "3.10.11"
  }
 },
 "nbformat": 4,
 "nbformat_minor": 5
}
