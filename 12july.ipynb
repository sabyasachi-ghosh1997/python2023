{
 "cells": [
  {
   "cell_type": "code",
   "execution_count": 11,
   "id": "284478f8",
   "metadata": {},
   "outputs": [
    {
     "name": "stdout",
     "output_type": "stream",
     "text": [
      "enter any string : Please note that updating to Notebook 7\n",
      "total space - 6\n"
     ]
    }
   ],
   "source": [
    "# Q.3  TOTAL NUMBER OF SPACE IN STRING -\n",
    "\n",
    "s=0\n",
    "a=input(\"enter any string : \")\n",
    "speace=' '\n",
    "for i in a:\n",
    "    if i in speace:\n",
    "        s+=1\n",
    "print(\"total space -\",s)"
   ]
  },
  {
   "cell_type": "code",
   "execution_count": 83,
   "id": "ae18a8c2",
   "metadata": {},
   "outputs": [
    {
     "name": "stdout",
     "output_type": "stream",
     "text": [
      "enter anything : 555\n",
      "enter anything : 555\n",
      "Both are equeal \n"
     ]
    }
   ],
   "source": [
    "# Q2\n",
    "\n",
    "a = input(\"enter anything : \")\n",
    "b = input(\"enter anything : \")\n",
    "if  type(a) != str and type(b) != str:\n",
    "     print(\"input are  string\")\n",
    "elif a != b:\n",
    "        print(\"Both strings are not equal\") # return if true\n",
    "else:\n",
    "        print(\"Both are equeal \") # return if false\n"
   ]
  },
  {
   "cell_type": "code",
   "execution_count": 85,
   "id": "a6e7fbe0",
   "metadata": {},
   "outputs": [
    {
     "name": "stdout",
     "output_type": "stream",
     "text": [
      "Enter the Year to be checked:  2004\n",
      "The provided number is even, and this year is  leap year -  2004\n"
     ]
    }
   ],
   "source": [
    "# Q.4\n",
    "\n",
    "num = int (input (\"Enter the Year to be checked:  \"))\n",
    "\n",
    "if num % 2 == 0 and num%4 == 0:\n",
    "           \n",
    "          print(\"The provided number is even, and this year is  leap year - \",num)\n",
    "elif num % 2 == 0 and num%4 != 0: \n",
    "    print(\"The provided number is even, but this year is not leap year : \",num)\n",
    "   \n",
    "else:\n",
    "    print(\"this year is odd, so it is not leap year : \",num)"
   ]
  },
  {
   "cell_type": "code",
   "execution_count": null,
   "id": "6e01fa1b",
   "metadata": {},
   "outputs": [],
   "source": []
  }
 ],
 "metadata": {
  "kernelspec": {
   "display_name": "Python 3 (ipykernel)",
   "language": "python",
   "name": "python3"
  },
  "language_info": {
   "codemirror_mode": {
    "name": "ipython",
    "version": 3
   },
   "file_extension": ".py",
   "mimetype": "text/x-python",
   "name": "python",
   "nbconvert_exporter": "python",
   "pygments_lexer": "ipython3",
   "version": "3.10.11"
  }
 },
 "nbformat": 4,
 "nbformat_minor": 5
}
